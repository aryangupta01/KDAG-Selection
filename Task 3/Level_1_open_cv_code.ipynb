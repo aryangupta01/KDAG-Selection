{
 "cells": [
  {
   "cell_type": "code",
   "execution_count": 5,
   "id": "62d827be",
   "metadata": {},
   "outputs": [],
   "source": [
    "import numpy as np\n",
    "import cv2 as cv"
   ]
  },
  {
   "cell_type": "code",
   "execution_count": 6,
   "id": "ef6aacfc",
   "metadata": {},
   "outputs": [],
   "source": [
    "img = cv.imread('image2.jpg')\n",
    "Z = img.reshape((-1,3))\n",
    "# convert to np.float32\n",
    "Z = np.float32(Z)"
   ]
  },
  {
   "cell_type": "code",
   "execution_count": 15,
   "id": "76fb43e5",
   "metadata": {},
   "outputs": [],
   "source": [
    "# define criteria, number of clusters(K) and apply kmeans()\n",
    "criteria = (cv.TERM_CRITERIA_EPS + cv.TERM_CRITERIA_MAX_ITER, 10, 1.0)\n",
    "K = 20\n",
    "ret,label,center=cv.kmeans(Z,K,None,criteria,10,cv.KMEANS_RANDOM_CENTERS)"
   ]
  },
  {
   "cell_type": "code",
   "execution_count": 16,
   "id": "42cb20eb",
   "metadata": {},
   "outputs": [],
   "source": [
    "# Now convert back into uint8, and make original image\n",
    "center = np.uint8(center)\n",
    "res = center[label.flatten()]\n",
    "res2 = res.reshape((img.shape))\n",
    "cv.imshow('res2',res2)\n",
    "cv.waitKey(0)\n",
    "cv.destroyAllWindows()"
   ]
  },
  {
   "cell_type": "code",
   "execution_count": null,
   "id": "582d01aa",
   "metadata": {},
   "outputs": [],
   "source": []
  }
 ],
 "metadata": {
  "kernelspec": {
   "display_name": "Python 3 (ipykernel)",
   "language": "python",
   "name": "python3"
  },
  "language_info": {
   "codemirror_mode": {
    "name": "ipython",
    "version": 3
   },
   "file_extension": ".py",
   "mimetype": "text/x-python",
   "name": "python",
   "nbconvert_exporter": "python",
   "pygments_lexer": "ipython3",
   "version": "3.9.12"
  }
 },
 "nbformat": 4,
 "nbformat_minor": 5
}
