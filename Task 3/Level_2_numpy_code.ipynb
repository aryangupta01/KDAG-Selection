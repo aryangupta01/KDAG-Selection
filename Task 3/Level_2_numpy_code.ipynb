{
 "cells": [
  {
   "cell_type": "code",
   "execution_count": 82,
   "id": "e54fcb50",
   "metadata": {},
   "outputs": [],
   "source": [
    "import numpy as np\n",
    "import cv2 as cv\n",
    "img = cv.imread('image2.jpg')\n",
    "Z = img.reshape((-1,3))"
   ]
  },
  {
   "cell_type": "code",
   "execution_count": 83,
   "id": "fbbe878d",
   "metadata": {},
   "outputs": [],
   "source": [
    "Z = np.float32(Z)"
   ]
  },
  {
   "cell_type": "code",
   "execution_count": 84,
   "id": "00b00434",
   "metadata": {},
   "outputs": [],
   "source": [
    "def initialize_centroids(z, k):\n",
    "    \"\"\"returns k centroids from the initial points\"\"\"\n",
    "    centroids = z.copy()\n",
    "    np.random.shuffle(centroids)\n",
    "    return centroids[:k]"
   ]
  },
  {
   "cell_type": "code",
   "execution_count": 85,
   "id": "83a95daf",
   "metadata": {},
   "outputs": [],
   "source": [
    "def closest_centroid(points, centroids):\n",
    "    \"\"\"returns an array containing the index to the nearest centroid for each point\"\"\"\n",
    "    distances = np.sqrt(((points - centroids[:, np.newaxis])**2).sum(axis=2))\n",
    "    return np.argmin(distances, axis=0)"
   ]
  },
  {
   "cell_type": "code",
   "execution_count": 86,
   "id": "37d19051",
   "metadata": {},
   "outputs": [],
   "source": [
    "def move_centroids(points, closest, centroids):\n",
    "    \"\"\"returns the new centroids assigned from the points closest to them\"\"\"\n",
    "    return np.array([points[closest==k].mean(axis=0) for k in range(centroids.shape[0])])"
   ]
  },
  {
   "cell_type": "code",
   "execution_count": 87,
   "id": "8482f6e1",
   "metadata": {},
   "outputs": [],
   "source": [
    "def k_means_clustering(k,Z):\n",
    "    centroids1 = initialize_centroids(Z, k)\n",
    "    closest = closest_centroid(Z, centroids1)\n",
    "    centroids2 = move_centroids(Z, closest, centroids1)\n",
    "    while True:\n",
    "        if np.array_equal(centroids1,centroids2):\n",
    "            break\n",
    "        else :\n",
    "            centroids1 = centroids2\n",
    "            closest = closest_centroid(Z,centroids1)\n",
    "            centroids2 = move_centroids(Z, closest, centroids1)\n",
    "    centroids2 = np.uint8(centroids2)\n",
    "    new_pixels = centroids2[closest]\n",
    "    return new_pixels"
   ]
  },
  {
   "cell_type": "code",
   "execution_count": 97,
   "id": "dc39b2f8",
   "metadata": {},
   "outputs": [],
   "source": [
    "# here k is the number of clusters we want\n",
    "k = 20 \n",
    "z_new = k_means_clustering(k,Z) "
   ]
  },
  {
   "cell_type": "code",
   "execution_count": 98,
   "id": "6f3a6692",
   "metadata": {},
   "outputs": [
    {
     "data": {
      "text/plain": [
       "dtype('uint8')"
      ]
     },
     "execution_count": 98,
     "metadata": {},
     "output_type": "execute_result"
    }
   ],
   "source": [
    "z_new.dtype"
   ]
  },
  {
   "cell_type": "code",
   "execution_count": 99,
   "id": "847f14e2",
   "metadata": {},
   "outputs": [],
   "source": [
    "res = z_new.reshape((img.shape))\n",
    "cv.imshow('res',res)\n",
    "cv.waitKey(0)\n",
    "cv.destroyAllWindows()"
   ]
  },
  {
   "cell_type": "code",
   "execution_count": null,
   "id": "84455696",
   "metadata": {},
   "outputs": [],
   "source": []
  },
  {
   "cell_type": "code",
   "execution_count": null,
   "id": "b24c8951",
   "metadata": {},
   "outputs": [],
   "source": []
  },
  {
   "cell_type": "code",
   "execution_count": null,
   "id": "71add4bb",
   "metadata": {},
   "outputs": [],
   "source": []
  },
  {
   "cell_type": "code",
   "execution_count": null,
   "id": "c6c7a2aa",
   "metadata": {},
   "outputs": [],
   "source": []
  }
 ],
 "metadata": {
  "kernelspec": {
   "display_name": "Python 3 (ipykernel)",
   "language": "python",
   "name": "python3"
  },
  "language_info": {
   "codemirror_mode": {
    "name": "ipython",
    "version": 3
   },
   "file_extension": ".py",
   "mimetype": "text/x-python",
   "name": "python",
   "nbconvert_exporter": "python",
   "pygments_lexer": "ipython3",
   "version": "3.9.12"
  }
 },
 "nbformat": 4,
 "nbformat_minor": 5
}
